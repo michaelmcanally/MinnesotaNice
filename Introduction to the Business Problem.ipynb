{
    "nbformat_minor": 1, 
    "cells": [
        {
            "source": "# The business case of 'Minnesota Nice'", 
            "cell_type": "markdown", 
            "metadata": {
                "collapsed": true
            }
        }, 
        {
            "source": "# 'Minnesota Nice' is a description of the personalities for people in the state of Minnesota, USA. Many other states wish they had the distinction of being associated with such a wonderful trait, but too bad - so sad. \n\n### In this project we suppose that the State of Minnesota and the cities of Minneapolis and St. Paul are trying to increase tourism as well as population growth to sell themselves as an attractive location to technological firms. To drive interest they had the state tourism board contract a data science firm to make an analytical and defensible argument for ranking the 85 Minneapolis and 17 St. Paul neighborhoods (as tracked by https://www.mncompass.org/profiles/neighborhoods/minneapolis-saint-paul#!community-areas). \n\n### Once the analysis is complete they plan to publish top ten lists in many different realty based publications as well as trade magazines in various technology sectors.\n\n### Crime, education, charitable contributions, percent homeowners, places of worship, ratings of food places, parks and green space, walkability, and what else? We'll make this a weighted score. Can also show a cluster analysis where we point out similar neighborhoods possibly as a recommender system? IE: If you liked neighborhood X, maybe you'd be interested in Y?", 
            "cell_type": "markdown", 
            "metadata": {}
        }, 
        {
            "execution_count": 1, 
            "cell_type": "code", 
            "metadata": {}, 
            "outputs": [
                {
                    "execution_count": 1, 
                    "metadata": {}, 
                    "data": {
                        "text/plain": "85"
                    }, 
                    "output_type": "execute_result"
                }
            ], 
            "source": ""
        }, 
        {
            "execution_count": null, 
            "cell_type": "code", 
            "metadata": {}, 
            "outputs": [], 
            "source": ""
        }
    ], 
    "metadata": {
        "kernelspec": {
            "display_name": "Python 3.5", 
            "name": "python3", 
            "language": "python"
        }, 
        "language_info": {
            "mimetype": "text/x-python", 
            "nbconvert_exporter": "python", 
            "version": "3.5.5", 
            "name": "python", 
            "file_extension": ".py", 
            "pygments_lexer": "ipython3", 
            "codemirror_mode": {
                "version": 3, 
                "name": "ipython"
            }
        }
    }, 
    "nbformat": 4
}