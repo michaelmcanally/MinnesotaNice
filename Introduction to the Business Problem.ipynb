{
    "nbformat_minor": 1, 
    "cells": [
        {
            "source": "# The business case of 'Minnesota Nice'", 
            "cell_type": "markdown", 
            "metadata": {
                "collapsed": true
            }
        }, 
        {
            "source": "# 'Minnesota Nice' is a description of the personalities for people in the state of Minnesota, USA. Many other states wish they had the distinction of being associated with such a wonderful trait, but too bad - so sad. \n\n### In this project we propose that the State of Minnesota and the cities of Minneapolis and St. Paul are trying to increase tourism as well as population growth by selling themselves as an attractive location to technological firms. To drive interest they had the state tourism board contract a data science firm to make an analytical and defensible argument for ranking the 85 Minneapolis and 17 St. Paul neighborhoods (as tracked by https://www.mncompass.org/profiles/neighborhoods/minneapolis-saint-paul#!community-areas). \n\n### The data science firm is on contract to deliver:\n* a defensible and analytically rigorous ranked list of the 102 neighborhoods in the \"Twin Cities\"\n* a clustering analysis that exemplifies similarity in neighborhoods for realty purposes\n\n###  The contract is flexible in what the data science firm can use for metrics and what type of data it includes in their analyses, but will use data pulled from multiple resources.\n\n### Once the data science firm has finished the various analyses, the contract sponsor plans to publish top ten lists in many different realty based publications, as well as trade magazines in various technology sectors.\n\n", 
            "cell_type": "markdown", 
            "metadata": {}
        }, 
        {
            "execution_count": null, 
            "cell_type": "code", 
            "metadata": {}, 
            "outputs": [], 
            "source": ""
        }
    ], 
    "metadata": {
        "kernelspec": {
            "display_name": "Python 3.5", 
            "name": "python3", 
            "language": "python"
        }, 
        "language_info": {
            "mimetype": "text/x-python", 
            "nbconvert_exporter": "python", 
            "version": "3.5.5", 
            "name": "python", 
            "file_extension": ".py", 
            "pygments_lexer": "ipython3", 
            "codemirror_mode": {
                "version": 3, 
                "name": "ipython"
            }
        }
    }, 
    "nbformat": 4
}