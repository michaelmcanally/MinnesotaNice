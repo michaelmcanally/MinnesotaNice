{
    "nbformat_minor": 1, 
    "cells": [
        {
            "source": "# Data sources to answer what neighborhood is the most 'Minnesota Nice'?\n\n## The hypothetical data science firm of MCG has researched the 'Minnesota Nice' business problem and determined that a variety of data needs to be gathered. In particular, geolocation data will be critical from the Foursquare API.\n\n### A more detailed description of data requirements follows:\n\n* Neighborhood names along with census data from the American Community Survey will be pulled from the Minnesota open data website:\n * https://www.mncompass.org/profiles/neighborhoods/minneapolis-saint-paul#!community-areas \n* Neighborhood names will be associated with central latitute/longitude coordinates using the the methods described in the StackOverflow post:\n * https://stackoverflow.com/questions/44616592/search-google-geocoding-api-by-neighborhood\n   * This will use the Google API searching for a combination of Neighborhood + City and then pulling the lat-long coordinates.\n   \n* Foursquare data will be obtained similar to the Toronto neighborhood analysis. We plan to look at restaurants, parks, schools, and spiritual centers.\n * https://developer.foursquare.com/docs/resources/categories \n \n* Walk scores for the neighborhoods will be obtained from the 'Walk Score' API:\n * https://www.walkscore.com/professional/api.php  \n \n* Finally, crime data will be imported from the SpotCrime API:\n * https://github.com/contra/spotcrime  ", 
            "cell_type": "markdown", 
            "metadata": {
                "collapsed": true
            }
        }, 
        {
            "source": "## First we import a couple of useful packages", 
            "cell_type": "markdown", 
            "metadata": {}
        }, 
        {
            "execution_count": 1, 
            "cell_type": "code", 
            "metadata": {}, 
            "outputs": [], 
            "source": "import pandas as pd\nimport numpy as np"
        }, 
        {
            "source": "## Now I import a couple of .csv files that were pulled from the mncompass.org website. We'll combine and pull just the neighborhood names.", 
            "cell_type": "markdown", 
            "metadata": {}
        }, 
        {
            "execution_count": 134, 
            "cell_type": "code", 
            "metadata": {}, 
            "outputs": [], 
            "source": "# The code was removed by Watson Studio for sharing."
        }, 
        {
            "source": "### Just quick sanity check on the import", 
            "cell_type": "markdown", 
            "metadata": {}
        }, 
        {
            "execution_count": 135, 
            "cell_type": "code", 
            "metadata": {}, 
            "outputs": [
                {
                    "execution_count": 135, 
                    "metadata": {}, 
                    "data": {
                        "text/html": "<div>\n<style scoped>\n    .dataframe tbody tr th:only-of-type {\n        vertical-align: middle;\n    }\n\n    .dataframe tbody tr th {\n        vertical-align: top;\n    }\n\n    .dataframe thead th {\n        text-align: right;\n    }\n</style>\n<table border=\"1\" class=\"dataframe\">\n  <thead>\n    <tr style=\"text-align: right;\">\n      <th></th>\n      <th>geography</th>\n      <th>City</th>\n    </tr>\n  </thead>\n  <tbody>\n    <tr>\n      <th>0</th>\n      <td>Mid-City Industrial</td>\n      <td>Minneapolis</td>\n    </tr>\n    <tr>\n      <th>1</th>\n      <td>University of Minnesota</td>\n      <td>Minneapolis</td>\n    </tr>\n    <tr>\n      <th>2</th>\n      <td>Northeast Park</td>\n      <td>Minneapolis</td>\n    </tr>\n    <tr>\n      <th>3</th>\n      <td>Beltrami</td>\n      <td>Minneapolis</td>\n    </tr>\n    <tr>\n      <th>4</th>\n      <td>Downtown East</td>\n      <td>Minneapolis</td>\n    </tr>\n  </tbody>\n</table>\n</div>", 
                        "text/plain": "                 geography         City\n0      Mid-City Industrial  Minneapolis\n1  University of Minnesota  Minneapolis\n2           Northeast Park  Minneapolis\n3                 Beltrami  Minneapolis\n4            Downtown East  Minneapolis"
                    }, 
                    "output_type": "execute_result"
                }
            ], 
            "source": "TwinCityHoods.head()"
        }, 
        {
            "execution_count": 136, 
            "cell_type": "code", 
            "metadata": {}, 
            "outputs": [
                {
                    "execution_count": 136, 
                    "metadata": {}, 
                    "data": {
                        "text/plain": "(113, 2)"
                    }, 
                    "output_type": "execute_result"
                }
            ], 
            "source": "TwinCityHoods.shape"
        }, 
        {
            "source": "### We know there are 102 neighborhoods from the website listing so let's drop any duplicates.", 
            "cell_type": "markdown", 
            "metadata": {}
        }, 
        {
            "execution_count": 137, 
            "cell_type": "code", 
            "metadata": {}, 
            "outputs": [], 
            "source": "TwinCityHoods = TwinCityHoods.drop_duplicates().dropna()"
        }, 
        {
            "source": "### Now since we need lat-longs, we'll make a list of the neighborhoods we want to search for on the google API.", 
            "cell_type": "markdown", 
            "metadata": {}
        }, 
        {
            "execution_count": 139, 
            "cell_type": "code", 
            "metadata": {}, 
            "outputs": [], 
            "source": "TwinCityHoods['neighborhood'] = TwinCityHoods.geography + \", \" + TwinCityHoods.City"
        }, 
        {
            "execution_count": 140, 
            "cell_type": "code", 
            "metadata": {}, 
            "outputs": [
                {
                    "execution_count": 140, 
                    "metadata": {}, 
                    "data": {
                        "text/html": "<div>\n<style scoped>\n    .dataframe tbody tr th:only-of-type {\n        vertical-align: middle;\n    }\n\n    .dataframe tbody tr th {\n        vertical-align: top;\n    }\n\n    .dataframe thead th {\n        text-align: right;\n    }\n</style>\n<table border=\"1\" class=\"dataframe\">\n  <thead>\n    <tr style=\"text-align: right;\">\n      <th></th>\n      <th>geography</th>\n      <th>City</th>\n      <th>neighborhood</th>\n    </tr>\n  </thead>\n  <tbody>\n    <tr>\n      <th>0</th>\n      <td>Mid-City Industrial</td>\n      <td>Minneapolis</td>\n      <td>Mid-City Industrial, Minneapolis</td>\n    </tr>\n    <tr>\n      <th>1</th>\n      <td>University of Minnesota</td>\n      <td>Minneapolis</td>\n      <td>University of Minnesota, Minneapolis</td>\n    </tr>\n    <tr>\n      <th>2</th>\n      <td>Northeast Park</td>\n      <td>Minneapolis</td>\n      <td>Northeast Park, Minneapolis</td>\n    </tr>\n    <tr>\n      <th>3</th>\n      <td>Beltrami</td>\n      <td>Minneapolis</td>\n      <td>Beltrami, Minneapolis</td>\n    </tr>\n    <tr>\n      <th>4</th>\n      <td>Downtown East</td>\n      <td>Minneapolis</td>\n      <td>Downtown East, Minneapolis</td>\n    </tr>\n  </tbody>\n</table>\n</div>", 
                        "text/plain": "                 geography         City                          neighborhood\n0      Mid-City Industrial  Minneapolis      Mid-City Industrial, Minneapolis\n1  University of Minnesota  Minneapolis  University of Minnesota, Minneapolis\n2           Northeast Park  Minneapolis           Northeast Park, Minneapolis\n3                 Beltrami  Minneapolis                 Beltrami, Minneapolis\n4            Downtown East  Minneapolis            Downtown East, Minneapolis"
                    }, 
                    "output_type": "execute_result"
                }
            ], 
            "source": "TwinCityHoods.head()"
        }, 
        {
            "execution_count": 141, 
            "cell_type": "code", 
            "metadata": {}, 
            "outputs": [], 
            "source": "NeighborhoodList = list(TwinCityHoods.neighborhood)"
        }, 
        {
            "execution_count": null, 
            "cell_type": "code", 
            "metadata": {}, 
            "outputs": [], 
            "source": ""
        }
    ], 
    "metadata": {
        "kernelspec": {
            "display_name": "Python 3.5", 
            "name": "python3", 
            "language": "python"
        }, 
        "language_info": {
            "mimetype": "text/x-python", 
            "nbconvert_exporter": "python", 
            "version": "3.5.5", 
            "name": "python", 
            "file_extension": ".py", 
            "pygments_lexer": "ipython3", 
            "codemirror_mode": {
                "version": 3, 
                "name": "ipython"
            }
        }
    }, 
    "nbformat": 4
}