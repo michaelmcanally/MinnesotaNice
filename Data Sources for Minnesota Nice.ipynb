{
    "nbformat_minor": 1, 
    "cells": [
        {
            "source": "# Data sources to answer what neighborhood is the most 'Minnesota Nice'?\n\n## The hypothetical data science firm of MCG has researched the 'Minnesota Nice' business problem and determined that a variety of data needs to be gathered. In particular, geolocation data will be critical from the Foursquare API.\n\n### A more detailed description of data requirements follows:\n\n* Neighborhood names will be pulled from the mncompass website:\n * https://www.mncompass.org/profiles/neighborhoods/minneapolis-saint-paul#!community-areas \n* Neighborhood names will be associated with zip codes using the the methods described in the StackOverflow post:\n * https://stackoverflow.com/questions/6347275/does-anyone-know-of-a-free-neighborhood-database\n   * Briefly, this uses two lists. A full list of the zip codes of the US then a cross ref to the USGS Domestic Names database that is associated with neighborhoods.\n   * https://www.usgs.gov/core-science-systems/ngp/board-on-geographic-names/domestic-names\n* Neighborhood borders based on zip code will be obtained using the 'uszipcode' package from PyPI:\n * https://pypi.org/project/uszipcode/#description\n   * Additional data from 'uszipcode' will be pulled including census demographics, real estate and housing, employment data, and educational attainment.\n   \n* Foursquare data will be obtained similar to the Toronto neighborhood analysis. We plan to look at restaurants, parks, schools, and spiritual centers.\n * https://developer.foursquare.com/docs/resources/categories \n \n* Walk scores for the neighborhoods will be obtained from the 'Walk Score' API:\n * https://www.walkscore.com/professional/api.php  \n \n* Finally, crime data will be imported from the SpotCrime API:\n * https://github.com/contra/spotcrime  ", 
            "cell_type": "markdown", 
            "metadata": {
                "collapsed": true
            }
        }, 
        {
            "execution_count": null, 
            "cell_type": "code", 
            "metadata": {}, 
            "outputs": [], 
            "source": ""
        }
    ], 
    "metadata": {
        "kernelspec": {
            "display_name": "Python 3.5", 
            "name": "python3", 
            "language": "python"
        }, 
        "language_info": {
            "mimetype": "text/x-python", 
            "nbconvert_exporter": "python", 
            "version": "3.5.5", 
            "name": "python", 
            "file_extension": ".py", 
            "pygments_lexer": "ipython3", 
            "codemirror_mode": {
                "version": 3, 
                "name": "ipython"
            }
        }
    }, 
    "nbformat": 4
}