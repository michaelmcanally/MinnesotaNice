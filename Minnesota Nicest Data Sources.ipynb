{
    "nbformat_minor": 1, 
    "cells": [
        {
            "source": "# Data sources to answer what neighborhood is the most 'Minnesota Nice'?\n\n## The hypothetical data science firm of MCG has researched the 'Minnesota Nice' business problem and determined that a variety of data needs to be gathered. In particular, geolocation data will be critical from the Foursquare API.\n\n### A more detailed description of data requirements follows:\n\n* Neighborhood names along with census data from the American Community Survey will be pulled from the Minnesota open data website:\n * https://www.mncompass.org/profiles/neighborhoods/minneapolis-saint-paul#!community-areas \n* Neighborhood names will be associated with central latitute/longitude coordinates using the the methods described in the StackOverflow post:\n * https://stackoverflow.com/questions/44616592/search-google-geocoding-api-by-neighborhood\n   * This will use the Google API searching for a combination of Neighborhood + City and then pulling the lat-long coordinates.\n   \n* Foursquare data will be obtained similar to the Toronto neighborhood analysis. We plan to look at restaurants, parks, schools, and spiritual centers.\n * https://developer.foursquare.com/docs/resources/categories \n \n* Walk scores for the neighborhoods will be obtained from the 'Walk Score' API:\n * https://www.walkscore.com/professional/api.php  ", 
            "cell_type": "markdown", 
            "metadata": {
                "collapsed": true
            }
        }, 
        {
            "source": "## First we import a couple of useful packages", 
            "cell_type": "markdown", 
            "metadata": {}
        }, 
        {
            "execution_count": 1, 
            "cell_type": "code", 
            "metadata": {}, 
            "outputs": [], 
            "source": "import pandas as pd\nimport numpy as np\nimport googlemaps\nimport requests\nimport urllib\nimport uszipcode"
        }, 
        {
            "source": "## Now I import a couple of .csv files that were pulled from the mncompass.org website. We'll combine and pull just the neighborhood names.", 
            "cell_type": "markdown", 
            "metadata": {}
        }, 
        {
            "execution_count": 2, 
            "cell_type": "code", 
            "metadata": {}, 
            "outputs": [], 
            "source": "import types\nimport pandas as pd\nfrom botocore.client import Config\nimport ibm_boto3\n\ndef __iter__(self): return 0"
        }, 
        {
            "execution_count": 3, 
            "cell_type": "code", 
            "metadata": {}, 
            "outputs": [], 
            "source": "# The code was removed by Watson Studio for sharing."
        }, 
        {
            "execution_count": 4, 
            "cell_type": "code", 
            "metadata": {}, 
            "outputs": [], 
            "source": "body = client_a28f8de00eed48e5bb907b36c94b68c9.get_object(Bucket='minnesotanice-donotdelete-pr-m1b1j2ihuwlryd',Key='MSP Neighborhoods_2010.csv')['Body']\n# add missing __iter__ method, so pandas accepts body as file-like object\nif not hasattr(body, \"__iter__\"): body.__iter__ = types.MethodType( __iter__, body )\n\ndf_data_1 = pd.read_csv(body, skiprows = 1)\n\nbody = client_a28f8de00eed48e5bb907b36c94b68c9.get_object(Bucket='minnesotanice-donotdelete-pr-m1b1j2ihuwlryd',Key='MSP Neighborhoods_2013-2017.csv')['Body']\n# add missing __iter__ method, so pandas accepts body as file-like object\nif not hasattr(body, \"__iter__\"): body.__iter__ = types.MethodType( __iter__, body )\n\ndf_data_2 = pd.read_csv(body, skiprows = 1)\n\ndf1 = df_data_1[['geography', 'City']]\ndf2 = df_data_2[['geography', 'City']]\n\nTwinCityHoods = df1.append(df2)"
        }, 
        {
            "source": "### Just quick sanity check on the import", 
            "cell_type": "markdown", 
            "metadata": {}
        }, 
        {
            "execution_count": 5, 
            "cell_type": "code", 
            "metadata": {}, 
            "outputs": [
                {
                    "execution_count": 5, 
                    "metadata": {}, 
                    "data": {
                        "text/html": "<div>\n<style scoped>\n    .dataframe tbody tr th:only-of-type {\n        vertical-align: middle;\n    }\n\n    .dataframe tbody tr th {\n        vertical-align: top;\n    }\n\n    .dataframe thead th {\n        text-align: right;\n    }\n</style>\n<table border=\"1\" class=\"dataframe\">\n  <thead>\n    <tr style=\"text-align: right;\">\n      <th></th>\n      <th>geography</th>\n      <th>City</th>\n    </tr>\n  </thead>\n  <tbody>\n    <tr>\n      <th>0</th>\n      <td>Mid-City Industrial</td>\n      <td>Minneapolis</td>\n    </tr>\n    <tr>\n      <th>1</th>\n      <td>University of Minnesota</td>\n      <td>Minneapolis</td>\n    </tr>\n    <tr>\n      <th>2</th>\n      <td>Northeast Park</td>\n      <td>Minneapolis</td>\n    </tr>\n    <tr>\n      <th>3</th>\n      <td>Beltrami</td>\n      <td>Minneapolis</td>\n    </tr>\n    <tr>\n      <th>4</th>\n      <td>Downtown East</td>\n      <td>Minneapolis</td>\n    </tr>\n  </tbody>\n</table>\n</div>", 
                        "text/plain": "                 geography         City\n0      Mid-City Industrial  Minneapolis\n1  University of Minnesota  Minneapolis\n2           Northeast Park  Minneapolis\n3                 Beltrami  Minneapolis\n4            Downtown East  Minneapolis"
                    }, 
                    "output_type": "execute_result"
                }
            ], 
            "source": "TwinCityHoods.head()"
        }, 
        {
            "execution_count": 6, 
            "cell_type": "code", 
            "metadata": {}, 
            "outputs": [
                {
                    "execution_count": 6, 
                    "metadata": {}, 
                    "data": {
                        "text/plain": "(113, 2)"
                    }, 
                    "output_type": "execute_result"
                }
            ], 
            "source": "TwinCityHoods.shape"
        }, 
        {
            "source": "### We know there are 102 neighborhoods from the website listing so let's drop any duplicates.", 
            "cell_type": "markdown", 
            "metadata": {}
        }, 
        {
            "execution_count": 7, 
            "cell_type": "code", 
            "metadata": {}, 
            "outputs": [], 
            "source": "TwinCityHoods = TwinCityHoods.drop_duplicates().dropna()"
        }, 
        {
            "source": "### Now since we need lat-longs, we'll make a list of the neighborhoods we want to search for on the google API.", 
            "cell_type": "markdown", 
            "metadata": {}
        }, 
        {
            "execution_count": 8, 
            "cell_type": "code", 
            "metadata": {}, 
            "outputs": [], 
            "source": "TwinCityHoods['neighborhood'] = TwinCityHoods.geography + \", \" + TwinCityHoods.City"
        }, 
        {
            "execution_count": 9, 
            "cell_type": "code", 
            "metadata": {}, 
            "outputs": [
                {
                    "execution_count": 9, 
                    "metadata": {}, 
                    "data": {
                        "text/html": "<div>\n<style scoped>\n    .dataframe tbody tr th:only-of-type {\n        vertical-align: middle;\n    }\n\n    .dataframe tbody tr th {\n        vertical-align: top;\n    }\n\n    .dataframe thead th {\n        text-align: right;\n    }\n</style>\n<table border=\"1\" class=\"dataframe\">\n  <thead>\n    <tr style=\"text-align: right;\">\n      <th></th>\n      <th>geography</th>\n      <th>City</th>\n      <th>neighborhood</th>\n    </tr>\n  </thead>\n  <tbody>\n    <tr>\n      <th>0</th>\n      <td>Mid-City Industrial</td>\n      <td>Minneapolis</td>\n      <td>Mid-City Industrial, Minneapolis</td>\n    </tr>\n    <tr>\n      <th>1</th>\n      <td>University of Minnesota</td>\n      <td>Minneapolis</td>\n      <td>University of Minnesota, Minneapolis</td>\n    </tr>\n    <tr>\n      <th>2</th>\n      <td>Northeast Park</td>\n      <td>Minneapolis</td>\n      <td>Northeast Park, Minneapolis</td>\n    </tr>\n    <tr>\n      <th>3</th>\n      <td>Beltrami</td>\n      <td>Minneapolis</td>\n      <td>Beltrami, Minneapolis</td>\n    </tr>\n    <tr>\n      <th>4</th>\n      <td>Downtown East</td>\n      <td>Minneapolis</td>\n      <td>Downtown East, Minneapolis</td>\n    </tr>\n  </tbody>\n</table>\n</div>", 
                        "text/plain": "                 geography         City                          neighborhood\n0      Mid-City Industrial  Minneapolis      Mid-City Industrial, Minneapolis\n1  University of Minnesota  Minneapolis  University of Minnesota, Minneapolis\n2           Northeast Park  Minneapolis           Northeast Park, Minneapolis\n3                 Beltrami  Minneapolis                 Beltrami, Minneapolis\n4            Downtown East  Minneapolis            Downtown East, Minneapolis"
                    }, 
                    "output_type": "execute_result"
                }
            ], 
            "source": "TwinCityHoods.head()"
        }, 
        {
            "execution_count": 10, 
            "cell_type": "code", 
            "metadata": {}, 
            "outputs": [], 
            "source": "NeighborhoodList = TwinCityHoods[['neighborhood']]\n"
        }, 
        {
            "execution_count": 11, 
            "cell_type": "code", 
            "metadata": {}, 
            "outputs": [], 
            "source": "# The code was removed by Watson Studio for sharing."
        }, 
        {
            "execution_count": 12, 
            "cell_type": "code", 
            "metadata": {}, 
            "outputs": [], 
            "source": "def geocode_address_lat(loc):\n    geocode_result = gmaps.geocode(loc)\n    lat = geocode_result[0][\"geometry\"][\"location\"][\"lat\"]\n    return(lat)\n    \ndef geocode_address_lon(loc):\n    geocode_result = gmaps.geocode(loc)\n    lon = geocode_result[0][\"geometry\"][\"location\"][\"lng\"]\n    return(lon)\n"
        }, 
        {
            "execution_count": 13, 
            "cell_type": "code", 
            "metadata": {}, 
            "outputs": [
                {
                    "output_type": "stream", 
                    "name": "stderr", 
                    "text": "/opt/conda/envs/Python36/lib/python3.6/site-packages/ipykernel/__main__.py:1: SettingWithCopyWarning: \nA value is trying to be set on a copy of a slice from a DataFrame.\nTry using .loc[row_indexer,col_indexer] = value instead\n\nSee the caveats in the documentation: http://pandas.pydata.org/pandas-docs/stable/indexing.html#indexing-view-versus-copy\n  if __name__ == '__main__':\n"
                }
            ], 
            "source": "NeighborhoodList['latitude'] = NeighborhoodList['neighborhood'].apply(geocode_address_lat);\nNeighborhoodList['longitude'] = NeighborhoodList['neighborhood'].apply(geocode_address_lon);\n"
        }, 
        {
            "execution_count": 14, 
            "cell_type": "code", 
            "metadata": {}, 
            "outputs": [
                {
                    "execution_count": 14, 
                    "metadata": {}, 
                    "data": {
                        "text/html": "<div>\n<style scoped>\n    .dataframe tbody tr th:only-of-type {\n        vertical-align: middle;\n    }\n\n    .dataframe tbody tr th {\n        vertical-align: top;\n    }\n\n    .dataframe thead th {\n        text-align: right;\n    }\n</style>\n<table border=\"1\" class=\"dataframe\">\n  <thead>\n    <tr style=\"text-align: right;\">\n      <th></th>\n      <th>neighborhood</th>\n      <th>latitude</th>\n      <th>longitude</th>\n    </tr>\n  </thead>\n  <tbody>\n    <tr>\n      <th>0</th>\n      <td>Mid-City Industrial, Minneapolis</td>\n      <td>44.998862</td>\n      <td>-93.217771</td>\n    </tr>\n    <tr>\n      <th>1</th>\n      <td>University of Minnesota, Minneapolis</td>\n      <td>44.973990</td>\n      <td>-93.227728</td>\n    </tr>\n    <tr>\n      <th>2</th>\n      <td>Northeast Park, Minneapolis</td>\n      <td>45.003120</td>\n      <td>-93.241263</td>\n    </tr>\n    <tr>\n      <th>3</th>\n      <td>Beltrami, Minneapolis</td>\n      <td>44.994943</td>\n      <td>-93.241600</td>\n    </tr>\n    <tr>\n      <th>4</th>\n      <td>Downtown East, Minneapolis</td>\n      <td>44.975911</td>\n      <td>-93.254587</td>\n    </tr>\n  </tbody>\n</table>\n</div>", 
                        "text/plain": "                           neighborhood   latitude  longitude\n0      Mid-City Industrial, Minneapolis  44.998862 -93.217771\n1  University of Minnesota, Minneapolis  44.973990 -93.227728\n2           Northeast Park, Minneapolis  45.003120 -93.241263\n3                 Beltrami, Minneapolis  44.994943 -93.241600\n4            Downtown East, Minneapolis  44.975911 -93.254587"
                    }, 
                    "output_type": "execute_result"
                }
            ], 
            "source": "NeighborhoodList.head()"
        }, 
        {
            "source": "## To use the walkscore API, we also need an address to associate with the lat-long. We'll now do the reverse geocode to associate a human recognizable address.", 
            "cell_type": "markdown", 
            "metadata": {}
        }, 
        {
            "execution_count": 15, 
            "cell_type": "code", 
            "metadata": {}, 
            "outputs": [], 
            "source": "# The code was removed by Watson Studio for sharing."
        }, 
        {
            "execution_count": 16, 
            "cell_type": "code", 
            "metadata": {}, 
            "outputs": [], 
            "source": "def geocode_address(loc):\n    geocode_result = gmaps.geocode(loc)\n    address = geocode_result[0]['formatted_address']\n    return(address)"
        }, 
        {
            "execution_count": 17, 
            "cell_type": "code", 
            "metadata": {}, 
            "outputs": [], 
            "source": "NeighborhoodList['lat-lon'] = NeighborhoodList.latitude.map(str) + \",\" + NeighborhoodList.longitude.map(str);\nNeighborhoodList['address'] = NeighborhoodList['lat-lon'].apply(geocode_address);"
        }, 
        {
            "execution_count": 18, 
            "cell_type": "code", 
            "metadata": {}, 
            "outputs": [
                {
                    "execution_count": 18, 
                    "metadata": {}, 
                    "data": {
                        "text/html": "<div>\n<style scoped>\n    .dataframe tbody tr th:only-of-type {\n        vertical-align: middle;\n    }\n\n    .dataframe tbody tr th {\n        vertical-align: top;\n    }\n\n    .dataframe thead th {\n        text-align: right;\n    }\n</style>\n<table border=\"1\" class=\"dataframe\">\n  <thead>\n    <tr style=\"text-align: right;\">\n      <th></th>\n      <th>neighborhood</th>\n      <th>latitude</th>\n      <th>longitude</th>\n      <th>lat-lon</th>\n      <th>address</th>\n    </tr>\n  </thead>\n  <tbody>\n    <tr>\n      <th>0</th>\n      <td>Mid-City Industrial, Minneapolis</td>\n      <td>44.998862</td>\n      <td>-93.217771</td>\n      <td>44.9988622,-93.2177712</td>\n      <td>Broadway St NE &amp; Hoover St, Minneapolis, MN 55...</td>\n    </tr>\n    <tr>\n      <th>1</th>\n      <td>University of Minnesota, Minneapolis</td>\n      <td>44.973990</td>\n      <td>-93.227728</td>\n      <td>44.97399,-93.2277285</td>\n      <td>Oak St SE &amp; Washington Ave SE, Minneapolis, MN...</td>\n    </tr>\n    <tr>\n      <th>2</th>\n      <td>Northeast Park, Minneapolis</td>\n      <td>45.003120</td>\n      <td>-93.241263</td>\n      <td>45.0031203,-93.2412634</td>\n      <td>1653 Fillmore St NE, Minneapolis, MN 55413, USA</td>\n    </tr>\n    <tr>\n      <th>3</th>\n      <td>Beltrami, Minneapolis</td>\n      <td>44.994943</td>\n      <td>-93.241600</td>\n      <td>44.994943,-93.2415998</td>\n      <td>453 Fillmore St NE, Minneapolis, MN 55413, USA</td>\n    </tr>\n    <tr>\n      <th>4</th>\n      <td>Downtown East, Minneapolis</td>\n      <td>44.975911</td>\n      <td>-93.254587</td>\n      <td>44.9759107,-93.25458719999999</td>\n      <td>1001 S Washington Ave, Minneapolis, MN 55415, USA</td>\n    </tr>\n  </tbody>\n</table>\n</div>", 
                        "text/plain": "                           neighborhood   latitude  longitude  \\\n0      Mid-City Industrial, Minneapolis  44.998862 -93.217771   \n1  University of Minnesota, Minneapolis  44.973990 -93.227728   \n2           Northeast Park, Minneapolis  45.003120 -93.241263   \n3                 Beltrami, Minneapolis  44.994943 -93.241600   \n4            Downtown East, Minneapolis  44.975911 -93.254587   \n\n                         lat-lon  \\\n0         44.9988622,-93.2177712   \n1           44.97399,-93.2277285   \n2         45.0031203,-93.2412634   \n3          44.994943,-93.2415998   \n4  44.9759107,-93.25458719999999   \n\n                                             address  \n0  Broadway St NE & Hoover St, Minneapolis, MN 55...  \n1  Oak St SE & Washington Ave SE, Minneapolis, MN...  \n2    1653 Fillmore St NE, Minneapolis, MN 55413, USA  \n3     453 Fillmore St NE, Minneapolis, MN 55413, USA  \n4  1001 S Washington Ave, Minneapolis, MN 55415, USA  "
                    }, 
                    "output_type": "execute_result"
                }
            ], 
            "source": "NeighborhoodList.head()"
        }, 
        {
            "execution_count": 19, 
            "cell_type": "code", 
            "metadata": {}, 
            "outputs": [], 
            "source": "def walkscore(address, latitude, longitude, walk_key = walk_key):\n    walk_base_url = 'http://api.walkscore.com/score'\n    w_url = walk_base_url + '?' + urllib.parse.urlencode({\n        'format': 'json',\n        'address': str(address),\n        'lat': str(latitude),\n        'lon': str(longitude),\n        'wsapikey': walk_key,\n        'transit': 1\n    })\n    results=requests.get(w_url).json()\n    return(results['walkscore'])"
        }, 
        {
            "execution_count": 20, 
            "cell_type": "code", 
            "metadata": {}, 
            "outputs": [], 
            "source": "NeighborhoodList['walkscore'] = NeighborhoodList.apply(lambda x: walkscore(x.address, x.latitude, x.longitude), axis = 1);"
        }, 
        {
            "execution_count": 21, 
            "cell_type": "code", 
            "metadata": {}, 
            "outputs": [
                {
                    "execution_count": 21, 
                    "metadata": {}, 
                    "data": {
                        "text/html": "<div>\n<style scoped>\n    .dataframe tbody tr th:only-of-type {\n        vertical-align: middle;\n    }\n\n    .dataframe tbody tr th {\n        vertical-align: top;\n    }\n\n    .dataframe thead th {\n        text-align: right;\n    }\n</style>\n<table border=\"1\" class=\"dataframe\">\n  <thead>\n    <tr style=\"text-align: right;\">\n      <th></th>\n      <th>neighborhood</th>\n      <th>latitude</th>\n      <th>longitude</th>\n      <th>lat-lon</th>\n      <th>address</th>\n      <th>walkscore</th>\n    </tr>\n  </thead>\n  <tbody>\n    <tr>\n      <th>0</th>\n      <td>Mid-City Industrial, Minneapolis</td>\n      <td>44.998862</td>\n      <td>-93.217771</td>\n      <td>44.9988622,-93.2177712</td>\n      <td>Broadway St NE &amp; Hoover St, Minneapolis, MN 55...</td>\n      <td>34</td>\n    </tr>\n    <tr>\n      <th>1</th>\n      <td>University of Minnesota, Minneapolis</td>\n      <td>44.973990</td>\n      <td>-93.227728</td>\n      <td>44.97399,-93.2277285</td>\n      <td>Oak St SE &amp; Washington Ave SE, Minneapolis, MN...</td>\n      <td>77</td>\n    </tr>\n    <tr>\n      <th>2</th>\n      <td>Northeast Park, Minneapolis</td>\n      <td>45.003120</td>\n      <td>-93.241263</td>\n      <td>45.0031203,-93.2412634</td>\n      <td>1653 Fillmore St NE, Minneapolis, MN 55413, USA</td>\n      <td>62</td>\n    </tr>\n    <tr>\n      <th>3</th>\n      <td>Beltrami, Minneapolis</td>\n      <td>44.994943</td>\n      <td>-93.241600</td>\n      <td>44.994943,-93.2415998</td>\n      <td>453 Fillmore St NE, Minneapolis, MN 55413, USA</td>\n      <td>59</td>\n    </tr>\n    <tr>\n      <th>4</th>\n      <td>Downtown East, Minneapolis</td>\n      <td>44.975911</td>\n      <td>-93.254587</td>\n      <td>44.9759107,-93.25458719999999</td>\n      <td>1001 S Washington Ave, Minneapolis, MN 55415, USA</td>\n      <td>90</td>\n    </tr>\n  </tbody>\n</table>\n</div>", 
                        "text/plain": "                           neighborhood   latitude  longitude  \\\n0      Mid-City Industrial, Minneapolis  44.998862 -93.217771   \n1  University of Minnesota, Minneapolis  44.973990 -93.227728   \n2           Northeast Park, Minneapolis  45.003120 -93.241263   \n3                 Beltrami, Minneapolis  44.994943 -93.241600   \n4            Downtown East, Minneapolis  44.975911 -93.254587   \n\n                         lat-lon  \\\n0         44.9988622,-93.2177712   \n1           44.97399,-93.2277285   \n2         45.0031203,-93.2412634   \n3          44.994943,-93.2415998   \n4  44.9759107,-93.25458719999999   \n\n                                             address  walkscore  \n0  Broadway St NE & Hoover St, Minneapolis, MN 55...         34  \n1  Oak St SE & Washington Ave SE, Minneapolis, MN...         77  \n2    1653 Fillmore St NE, Minneapolis, MN 55413, USA         62  \n3     453 Fillmore St NE, Minneapolis, MN 55413, USA         59  \n4  1001 S Washington Ave, Minneapolis, MN 55415, USA         90  "
                    }, 
                    "output_type": "execute_result"
                }
            ], 
            "source": "NeighborhoodList.head()"
        }, 
        {
            "source": "# MIKE THIS IS WHERE YOU LEFT OFF, gotta figure out what you want to pull from the uszipcode database", 
            "cell_type": "markdown", 
            "metadata": {}
        }, 
        {
            "execution_count": 40, 
            "cell_type": "code", 
            "metadata": {}, 
            "outputs": [
                {
                    "output_type": "stream", 
                    "name": "stdout", 
                    "text": "Start downloading data for rich info zipcode database, total size 450+MB ...\n  10 MB finished ...\n  20 MB finished ...\n  30 MB finished ...\n  40 MB finished ...\n  50 MB finished ...\n  60 MB finished ...\n  70 MB finished ...\n  80 MB finished ...\n  90 MB finished ...\n  100 MB finished ...\n  110 MB finished ...\n  120 MB finished ...\n  130 MB finished ...\n  140 MB finished ...\n  150 MB finished ...\n  160 MB finished ...\n  170 MB finished ...\n  180 MB finished ...\n  190 MB finished ...\n  200 MB finished ...\n  210 MB finished ...\n  220 MB finished ...\n  230 MB finished ...\n  240 MB finished ...\n  250 MB finished ...\n  260 MB finished ...\n  270 MB finished ...\n  280 MB finished ...\n  290 MB finished ...\n  300 MB finished ...\n  310 MB finished ...\n  320 MB finished ...\n  330 MB finished ...\n  340 MB finished ...\n  350 MB finished ...\n  360 MB finished ...\n  370 MB finished ...\n  380 MB finished ...\n  390 MB finished ...\n  400 MB finished ...\n  410 MB finished ...\n  420 MB finished ...\n  430 MB finished ...\n  440 MB finished ...\n  Complete!\n"
                }
            ], 
            "source": "from uszipcode import Zipcode\nfrom uszipcode import SearchEngine\nsearch = SearchEngine(simple_zipcode=False)\nresult = search.by_coordinates(39.122229, -77.133578, radius=3, returns=1)"
        }, 
        {
            "execution_count": 51, 
            "cell_type": "code", 
            "metadata": {}, 
            "outputs": [
                {
                    "execution_count": 51, 
                    "metadata": {}, 
                    "data": {
                        "text/plain": "[{'key': 'Data',\n  'values': [{'x': '1939 Or Earlier', 'y': 74},\n   {'x': '1940s', 'y': 25},\n   {'x': '1950s', 'y': 38},\n   {'x': '1960s', 'y': 1099},\n   {'x': '1970s', 'y': 1111},\n   {'x': '1980s', 'y': 2197},\n   {'x': '1990s', 'y': 238},\n   {'x': '2000s', 'y': 137},\n   {'x': '2010 Or Later', 'y': 10}]}]"
                    }, 
                    "output_type": "execute_result"
                }
            ], 
            "source": "result[0].year_housing_was_built"
        }, 
        {
            "execution_count": null, 
            "cell_type": "code", 
            "metadata": {}, 
            "outputs": [], 
            "source": "def walkscore(address, latitude, longitude, walk_key = walk_key):\n    walk_base_url = 'http://api.walkscore.com/score'\n    w_url = walk_base_url + '?' + urllib.parse.urlencode({\n        'format': 'json',\n        'address': str(address),\n        'lat': str(latitude),\n        'lon': str(longitude),\n        'wsapikey': walk_key,\n        'transit': 1\n    })\n    results=requests.get(w_url).json()\n    return(results['walkscore'])"
        }
    ], 
    "metadata": {
        "kernelspec": {
            "display_name": "Python 3.6", 
            "name": "python3", 
            "language": "python"
        }, 
        "language_info": {
            "mimetype": "text/x-python", 
            "nbconvert_exporter": "python", 
            "version": "3.6.8", 
            "name": "python", 
            "file_extension": ".py", 
            "pygments_lexer": "ipython3", 
            "codemirror_mode": {
                "version": 3, 
                "name": "ipython"
            }
        }
    }, 
    "nbformat": 4
}