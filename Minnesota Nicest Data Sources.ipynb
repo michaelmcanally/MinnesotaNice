{
    "nbformat_minor": 1, 
    "cells": [
        {
            "execution_count": 128, 
            "cell_type": "code", 
            "metadata": {}, 
            "outputs": [], 
            "source": "# The code was removed by Watson Studio for sharing."
        }, 
        {
            "source": "# Data sources to answer what neighborhood is the most 'Minnesota Nice'?\n\n## The hypothetical data science firm of MCG has researched the 'Minnesota Nice' business problem and determined that a variety of data needs to be gathered. In particular, geolocation data will be critical from the Foursquare API.\n\n### A more detailed description of data requirements follows:\n\n* Neighborhood names along with census data from the American Community Survey will be pulled from the Minnesota open data website:\n * https://www.mncompass.org/profiles/neighborhoods/minneapolis-saint-paul#!community-areas \n* Neighborhood names will be associated with central latitute/longitude coordinates using the the methods described in the StackOverflow post:\n * https://stackoverflow.com/questions/44616592/search-google-geocoding-api-by-neighborhood\n   * This will use the Google API searching for a combination of Neighborhood + City and then pulling the lat-long coordinates.\n   \n* Foursquare data will be obtained similar to the Toronto neighborhood analysis. We plan to look at restaurants, parks, schools, and spiritual centers.\n * https://developer.foursquare.com/docs/resources/categories \n \n* Walk scores for the neighborhoods will be obtained from the 'Walk Score' API:\n * https://www.walkscore.com/professional/api.php  ", 
            "cell_type": "markdown", 
            "metadata": {
                "collapsed": true
            }
        }, 
        {
            "source": "## First we import a couple of useful packages", 
            "cell_type": "markdown", 
            "metadata": {}
        }, 
        {
            "execution_count": 91, 
            "cell_type": "code", 
            "metadata": {}, 
            "outputs": [], 
            "source": "import pandas as pd\nimport numpy as np\nimport googlemaps\nimport requests\nimport urllib\nimport uszipcode"
        }, 
        {
            "source": "## Now I import a couple of .csv files that were pulled from the mncompass.org website. We'll combine and pull just the neighborhood names.", 
            "cell_type": "markdown", 
            "metadata": {}
        }, 
        {
            "execution_count": 92, 
            "cell_type": "code", 
            "metadata": {}, 
            "outputs": [], 
            "source": "import types\nimport pandas as pd\nfrom botocore.client import Config\nimport ibm_boto3\n\ndef __iter__(self): return 0"
        }, 
        {
            "execution_count": 93, 
            "cell_type": "code", 
            "metadata": {}, 
            "outputs": [], 
            "source": "# The code was removed by Watson Studio for sharing."
        }, 
        {
            "execution_count": 94, 
            "cell_type": "code", 
            "metadata": {}, 
            "outputs": [], 
            "source": "body = client_a28f8de00eed48e5bb907b36c94b68c9.get_object(Bucket='minnesotanice-donotdelete-pr-m1b1j2ihuwlryd',Key='MSP Neighborhoods_2010.csv')['Body']\n# add missing __iter__ method, so pandas accepts body as file-like object\nif not hasattr(body, \"__iter__\"): body.__iter__ = types.MethodType( __iter__, body )\n\ndf_data_1 = pd.read_csv(body, skiprows = 1)\n\nbody = client_a28f8de00eed48e5bb907b36c94b68c9.get_object(Bucket='minnesotanice-donotdelete-pr-m1b1j2ihuwlryd',Key='MSP Neighborhoods_2013-2017.csv')['Body']\n# add missing __iter__ method, so pandas accepts body as file-like object\nif not hasattr(body, \"__iter__\"): body.__iter__ = types.MethodType( __iter__, body )\n\ndf_data_2 = pd.read_csv(body, skiprows = 1)\n\ndf1 = df_data_1[['geography', 'City', 'Average household size - count (2010 Census)', 'Total population - Total - count (2010 Census)', 'Population under age 18 - share (2010 Census)']]\ndf1 = df1.rename(index=str, columns={'geography': \"geography\", \"City\": \"City\", 'Average household size - count (2010 Census)': \"household_size\", 'Total population - Total - count (2010 Census)': \"total_population\", 'Population under age 18 - share (2010 Census)' : 'share_population_under18'})\ndf2 = df_data_2[['geography', 'City', 'Average household size - count (2013-2017 ACS)', 'Total population - Total population - count (2013-2017 ACS)', 'Population under age 18 - share (2010 Census)']]\ndf2 = df2.rename(index=str, columns={'geography': \"geography\", \"City\": \"City\", 'Average household size - count (2013-2017 ACS)': \"household_size\", 'Total population - Total population - count (2013-2017 ACS)': \"total_population\", 'Population under age 18 - share (2010 Census)' : 'share_population_under18'})\n\nTwinCityNeighborhoods = df1.append(df2)"
        }, 
        {
            "source": "### Just quick sanity check on the import", 
            "cell_type": "markdown", 
            "metadata": {}
        }, 
        {
            "execution_count": 95, 
            "cell_type": "code", 
            "metadata": {}, 
            "outputs": [
                {
                    "execution_count": 95, 
                    "metadata": {}, 
                    "data": {
                        "text/html": "<div>\n<style scoped>\n    .dataframe tbody tr th:only-of-type {\n        vertical-align: middle;\n    }\n\n    .dataframe tbody tr th {\n        vertical-align: top;\n    }\n\n    .dataframe thead th {\n        text-align: right;\n    }\n</style>\n<table border=\"1\" class=\"dataframe\">\n  <thead>\n    <tr style=\"text-align: right;\">\n      <th></th>\n      <th>geography</th>\n      <th>City</th>\n      <th>household_size</th>\n      <th>total_population</th>\n      <th>share_population_under18</th>\n    </tr>\n  </thead>\n  <tbody>\n    <tr>\n      <th>0</th>\n      <td>Mid-City Industrial</td>\n      <td>Minneapolis</td>\n      <td>1.480278</td>\n      <td>213.0</td>\n      <td>0.031250</td>\n    </tr>\n    <tr>\n      <th>1</th>\n      <td>University of Minnesota</td>\n      <td>Minneapolis</td>\n      <td>3.722899</td>\n      <td>5421.0</td>\n      <td>0.384615</td>\n    </tr>\n    <tr>\n      <th>2</th>\n      <td>Northeast Park</td>\n      <td>Minneapolis</td>\n      <td>2.390534</td>\n      <td>672.0</td>\n      <td>0.288684</td>\n    </tr>\n    <tr>\n      <th>3</th>\n      <td>Beltrami</td>\n      <td>Minneapolis</td>\n      <td>2.886937</td>\n      <td>1248.0</td>\n      <td>0.364183</td>\n    </tr>\n    <tr>\n      <th>4</th>\n      <td>Downtown East</td>\n      <td>Minneapolis</td>\n      <td>1.629117</td>\n      <td>1254.0</td>\n      <td>0.110879</td>\n    </tr>\n  </tbody>\n</table>\n</div>", 
                        "text/plain": "                 geography         City  household_size  total_population  \\\n0      Mid-City Industrial  Minneapolis        1.480278             213.0   \n1  University of Minnesota  Minneapolis        3.722899            5421.0   \n2           Northeast Park  Minneapolis        2.390534             672.0   \n3                 Beltrami  Minneapolis        2.886937            1248.0   \n4            Downtown East  Minneapolis        1.629117            1254.0   \n\n   share_population_under18  \n0                  0.031250  \n1                  0.384615  \n2                  0.288684  \n3                  0.364183  \n4                  0.110879  "
                    }, 
                    "output_type": "execute_result"
                }
            ], 
            "source": "TwinCityNeighborhoods.head()"
        }, 
        {
            "execution_count": 96, 
            "cell_type": "code", 
            "metadata": {}, 
            "outputs": [
                {
                    "execution_count": 96, 
                    "metadata": {}, 
                    "data": {
                        "text/plain": "(113, 5)"
                    }, 
                    "output_type": "execute_result"
                }
            ], 
            "source": "TwinCityNeighborhoods.shape"
        }, 
        {
            "source": "### We know there are 102 neighborhoods from the website listing so let's drop any duplicates.", 
            "cell_type": "markdown", 
            "metadata": {}
        }, 
        {
            "execution_count": 97, 
            "cell_type": "code", 
            "metadata": {}, 
            "outputs": [], 
            "source": "TwinCityNeighborhoods = TwinCityNeighborhoods.drop_duplicates().dropna()"
        }, 
        {
            "source": "### Now since we need lat-longs, we'll make a list of the neighborhoods we want to search for on the google API.", 
            "cell_type": "markdown", 
            "metadata": {}
        }, 
        {
            "execution_count": 98, 
            "cell_type": "code", 
            "metadata": {}, 
            "outputs": [], 
            "source": "TwinCityNeighborhoods['neighborhood'] = TwinCityNeighborhoods.geography + \", \" + TwinCityNeighborhoods.City"
        }, 
        {
            "execution_count": 99, 
            "cell_type": "code", 
            "metadata": {}, 
            "outputs": [
                {
                    "execution_count": 99, 
                    "metadata": {}, 
                    "data": {
                        "text/html": "<div>\n<style scoped>\n    .dataframe tbody tr th:only-of-type {\n        vertical-align: middle;\n    }\n\n    .dataframe tbody tr th {\n        vertical-align: top;\n    }\n\n    .dataframe thead th {\n        text-align: right;\n    }\n</style>\n<table border=\"1\" class=\"dataframe\">\n  <thead>\n    <tr style=\"text-align: right;\">\n      <th></th>\n      <th>geography</th>\n      <th>City</th>\n      <th>household_size</th>\n      <th>total_population</th>\n      <th>share_population_under18</th>\n      <th>neighborhood</th>\n    </tr>\n  </thead>\n  <tbody>\n    <tr>\n      <th>0</th>\n      <td>Mid-City Industrial</td>\n      <td>Minneapolis</td>\n      <td>1.480278</td>\n      <td>213.0</td>\n      <td>0.031250</td>\n      <td>Mid-City Industrial, Minneapolis</td>\n    </tr>\n    <tr>\n      <th>1</th>\n      <td>University of Minnesota</td>\n      <td>Minneapolis</td>\n      <td>3.722899</td>\n      <td>5421.0</td>\n      <td>0.384615</td>\n      <td>University of Minnesota, Minneapolis</td>\n    </tr>\n    <tr>\n      <th>2</th>\n      <td>Northeast Park</td>\n      <td>Minneapolis</td>\n      <td>2.390534</td>\n      <td>672.0</td>\n      <td>0.288684</td>\n      <td>Northeast Park, Minneapolis</td>\n    </tr>\n    <tr>\n      <th>3</th>\n      <td>Beltrami</td>\n      <td>Minneapolis</td>\n      <td>2.886937</td>\n      <td>1248.0</td>\n      <td>0.364183</td>\n      <td>Beltrami, Minneapolis</td>\n    </tr>\n    <tr>\n      <th>4</th>\n      <td>Downtown East</td>\n      <td>Minneapolis</td>\n      <td>1.629117</td>\n      <td>1254.0</td>\n      <td>0.110879</td>\n      <td>Downtown East, Minneapolis</td>\n    </tr>\n  </tbody>\n</table>\n</div>", 
                        "text/plain": "                 geography         City  household_size  total_population  \\\n0      Mid-City Industrial  Minneapolis        1.480278             213.0   \n1  University of Minnesota  Minneapolis        3.722899            5421.0   \n2           Northeast Park  Minneapolis        2.390534             672.0   \n3                 Beltrami  Minneapolis        2.886937            1248.0   \n4            Downtown East  Minneapolis        1.629117            1254.0   \n\n   share_population_under18                          neighborhood  \n0                  0.031250      Mid-City Industrial, Minneapolis  \n1                  0.384615  University of Minnesota, Minneapolis  \n2                  0.288684           Northeast Park, Minneapolis  \n3                  0.364183                 Beltrami, Minneapolis  \n4                  0.110879            Downtown East, Minneapolis  "
                    }, 
                    "output_type": "execute_result"
                }
            ], 
            "source": "TwinCityNeighborhoods.head()"
        }, 
        {
            "execution_count": 100, 
            "cell_type": "code", 
            "metadata": {}, 
            "outputs": [], 
            "source": "# The code was removed by Watson Studio for sharing."
        }, 
        {
            "execution_count": 101, 
            "cell_type": "code", 
            "metadata": {}, 
            "outputs": [], 
            "source": "def geocode_address_lat(loc):\n    geocode_result = gmaps.geocode(loc)\n    lat = geocode_result[0][\"geometry\"][\"location\"][\"lat\"]\n    return(lat)\n    \ndef geocode_address_lon(loc):\n    geocode_result = gmaps.geocode(loc)\n    lon = geocode_result[0][\"geometry\"][\"location\"][\"lng\"]\n    return(lon)\n"
        }, 
        {
            "execution_count": 102, 
            "cell_type": "code", 
            "metadata": {}, 
            "outputs": [], 
            "source": "TwinCityNeighborhoods['latitude'] = TwinCityNeighborhoods['neighborhood'].apply(geocode_address_lat);\nTwinCityNeighborhoods['longitude'] = TwinCityNeighborhoods['neighborhood'].apply(geocode_address_lon);\n"
        }, 
        {
            "execution_count": 103, 
            "cell_type": "code", 
            "metadata": {}, 
            "outputs": [
                {
                    "execution_count": 103, 
                    "metadata": {}, 
                    "data": {
                        "text/html": "<div>\n<style scoped>\n    .dataframe tbody tr th:only-of-type {\n        vertical-align: middle;\n    }\n\n    .dataframe tbody tr th {\n        vertical-align: top;\n    }\n\n    .dataframe thead th {\n        text-align: right;\n    }\n</style>\n<table border=\"1\" class=\"dataframe\">\n  <thead>\n    <tr style=\"text-align: right;\">\n      <th></th>\n      <th>geography</th>\n      <th>City</th>\n      <th>household_size</th>\n      <th>total_population</th>\n      <th>share_population_under18</th>\n      <th>neighborhood</th>\n      <th>latitude</th>\n      <th>longitude</th>\n    </tr>\n  </thead>\n  <tbody>\n    <tr>\n      <th>0</th>\n      <td>Mid-City Industrial</td>\n      <td>Minneapolis</td>\n      <td>1.480278</td>\n      <td>213.0</td>\n      <td>0.031250</td>\n      <td>Mid-City Industrial, Minneapolis</td>\n      <td>44.998862</td>\n      <td>-93.217771</td>\n    </tr>\n    <tr>\n      <th>1</th>\n      <td>University of Minnesota</td>\n      <td>Minneapolis</td>\n      <td>3.722899</td>\n      <td>5421.0</td>\n      <td>0.384615</td>\n      <td>University of Minnesota, Minneapolis</td>\n      <td>44.973990</td>\n      <td>-93.227728</td>\n    </tr>\n    <tr>\n      <th>2</th>\n      <td>Northeast Park</td>\n      <td>Minneapolis</td>\n      <td>2.390534</td>\n      <td>672.0</td>\n      <td>0.288684</td>\n      <td>Northeast Park, Minneapolis</td>\n      <td>45.003120</td>\n      <td>-93.241263</td>\n    </tr>\n    <tr>\n      <th>3</th>\n      <td>Beltrami</td>\n      <td>Minneapolis</td>\n      <td>2.886937</td>\n      <td>1248.0</td>\n      <td>0.364183</td>\n      <td>Beltrami, Minneapolis</td>\n      <td>44.994943</td>\n      <td>-93.241600</td>\n    </tr>\n    <tr>\n      <th>4</th>\n      <td>Downtown East</td>\n      <td>Minneapolis</td>\n      <td>1.629117</td>\n      <td>1254.0</td>\n      <td>0.110879</td>\n      <td>Downtown East, Minneapolis</td>\n      <td>44.975911</td>\n      <td>-93.254587</td>\n    </tr>\n  </tbody>\n</table>\n</div>", 
                        "text/plain": "                 geography         City  household_size  total_population  \\\n0      Mid-City Industrial  Minneapolis        1.480278             213.0   \n1  University of Minnesota  Minneapolis        3.722899            5421.0   \n2           Northeast Park  Minneapolis        2.390534             672.0   \n3                 Beltrami  Minneapolis        2.886937            1248.0   \n4            Downtown East  Minneapolis        1.629117            1254.0   \n\n   share_population_under18                          neighborhood   latitude  \\\n0                  0.031250      Mid-City Industrial, Minneapolis  44.998862   \n1                  0.384615  University of Minnesota, Minneapolis  44.973990   \n2                  0.288684           Northeast Park, Minneapolis  45.003120   \n3                  0.364183                 Beltrami, Minneapolis  44.994943   \n4                  0.110879            Downtown East, Minneapolis  44.975911   \n\n   longitude  \n0 -93.217771  \n1 -93.227728  \n2 -93.241263  \n3 -93.241600  \n4 -93.254587  "
                    }, 
                    "output_type": "execute_result"
                }
            ], 
            "source": "TwinCityNeighborhoods.head()"
        }, 
        {
            "source": "## To use the walkscore API, we also need an address to associate with the lat-long. We'll now do the reverse geocode to associate a human recognizable address.", 
            "cell_type": "markdown", 
            "metadata": {}
        }, 
        {
            "execution_count": 104, 
            "cell_type": "code", 
            "metadata": {}, 
            "outputs": [], 
            "source": "# The code was removed by Watson Studio for sharing."
        }, 
        {
            "execution_count": 105, 
            "cell_type": "code", 
            "metadata": {}, 
            "outputs": [], 
            "source": "def geocode_address(loc):\n    geocode_result = gmaps.geocode(loc)\n    address = geocode_result[0]['formatted_address']\n    return(address)"
        }, 
        {
            "execution_count": 106, 
            "cell_type": "code", 
            "metadata": {}, 
            "outputs": [], 
            "source": "TwinCityNeighborhoods['lat-lon'] = TwinCityNeighborhoods.latitude.map(str) + \",\" + TwinCityNeighborhoods.longitude.map(str);\nTwinCityNeighborhoods['address'] = TwinCityNeighborhoods['lat-lon'].apply(geocode_address);"
        }, 
        {
            "execution_count": 107, 
            "cell_type": "code", 
            "metadata": {}, 
            "outputs": [
                {
                    "execution_count": 107, 
                    "metadata": {}, 
                    "data": {
                        "text/html": "<div>\n<style scoped>\n    .dataframe tbody tr th:only-of-type {\n        vertical-align: middle;\n    }\n\n    .dataframe tbody tr th {\n        vertical-align: top;\n    }\n\n    .dataframe thead th {\n        text-align: right;\n    }\n</style>\n<table border=\"1\" class=\"dataframe\">\n  <thead>\n    <tr style=\"text-align: right;\">\n      <th></th>\n      <th>geography</th>\n      <th>City</th>\n      <th>household_size</th>\n      <th>total_population</th>\n      <th>share_population_under18</th>\n      <th>neighborhood</th>\n      <th>latitude</th>\n      <th>longitude</th>\n      <th>lat-lon</th>\n      <th>address</th>\n    </tr>\n  </thead>\n  <tbody>\n    <tr>\n      <th>0</th>\n      <td>Mid-City Industrial</td>\n      <td>Minneapolis</td>\n      <td>1.480278</td>\n      <td>213.0</td>\n      <td>0.031250</td>\n      <td>Mid-City Industrial, Minneapolis</td>\n      <td>44.998862</td>\n      <td>-93.217771</td>\n      <td>44.9988622,-93.2177712</td>\n      <td>Broadway St NE &amp; Hoover St, Minneapolis, MN 55...</td>\n    </tr>\n    <tr>\n      <th>1</th>\n      <td>University of Minnesota</td>\n      <td>Minneapolis</td>\n      <td>3.722899</td>\n      <td>5421.0</td>\n      <td>0.384615</td>\n      <td>University of Minnesota, Minneapolis</td>\n      <td>44.973990</td>\n      <td>-93.227728</td>\n      <td>44.97399,-93.2277285</td>\n      <td>Oak St SE &amp; Washington Ave SE, Minneapolis, MN...</td>\n    </tr>\n    <tr>\n      <th>2</th>\n      <td>Northeast Park</td>\n      <td>Minneapolis</td>\n      <td>2.390534</td>\n      <td>672.0</td>\n      <td>0.288684</td>\n      <td>Northeast Park, Minneapolis</td>\n      <td>45.003120</td>\n      <td>-93.241263</td>\n      <td>45.0031203,-93.2412634</td>\n      <td>1653 Fillmore St NE, Minneapolis, MN 55413, USA</td>\n    </tr>\n    <tr>\n      <th>3</th>\n      <td>Beltrami</td>\n      <td>Minneapolis</td>\n      <td>2.886937</td>\n      <td>1248.0</td>\n      <td>0.364183</td>\n      <td>Beltrami, Minneapolis</td>\n      <td>44.994943</td>\n      <td>-93.241600</td>\n      <td>44.994943,-93.2415998</td>\n      <td>453 Fillmore St NE, Minneapolis, MN 55413, USA</td>\n    </tr>\n    <tr>\n      <th>4</th>\n      <td>Downtown East</td>\n      <td>Minneapolis</td>\n      <td>1.629117</td>\n      <td>1254.0</td>\n      <td>0.110879</td>\n      <td>Downtown East, Minneapolis</td>\n      <td>44.975911</td>\n      <td>-93.254587</td>\n      <td>44.9759107,-93.25458719999999</td>\n      <td>1001 S Washington Ave, Minneapolis, MN 55415, USA</td>\n    </tr>\n  </tbody>\n</table>\n</div>", 
                        "text/plain": "                 geography         City  household_size  total_population  \\\n0      Mid-City Industrial  Minneapolis        1.480278             213.0   \n1  University of Minnesota  Minneapolis        3.722899            5421.0   \n2           Northeast Park  Minneapolis        2.390534             672.0   \n3                 Beltrami  Minneapolis        2.886937            1248.0   \n4            Downtown East  Minneapolis        1.629117            1254.0   \n\n   share_population_under18                          neighborhood   latitude  \\\n0                  0.031250      Mid-City Industrial, Minneapolis  44.998862   \n1                  0.384615  University of Minnesota, Minneapolis  44.973990   \n2                  0.288684           Northeast Park, Minneapolis  45.003120   \n3                  0.364183                 Beltrami, Minneapolis  44.994943   \n4                  0.110879            Downtown East, Minneapolis  44.975911   \n\n   longitude                        lat-lon  \\\n0 -93.217771         44.9988622,-93.2177712   \n1 -93.227728           44.97399,-93.2277285   \n2 -93.241263         45.0031203,-93.2412634   \n3 -93.241600          44.994943,-93.2415998   \n4 -93.254587  44.9759107,-93.25458719999999   \n\n                                             address  \n0  Broadway St NE & Hoover St, Minneapolis, MN 55...  \n1  Oak St SE & Washington Ave SE, Minneapolis, MN...  \n2    1653 Fillmore St NE, Minneapolis, MN 55413, USA  \n3     453 Fillmore St NE, Minneapolis, MN 55413, USA  \n4  1001 S Washington Ave, Minneapolis, MN 55415, USA  "
                    }, 
                    "output_type": "execute_result"
                }
            ], 
            "source": "TwinCityNeighborhoods.head()"
        }, 
        {
            "execution_count": 108, 
            "cell_type": "code", 
            "metadata": {}, 
            "outputs": [], 
            "source": "def walkscore(address, latitude, longitude, walk_key = walk_key):\n    walk_base_url = 'http://api.walkscore.com/score'\n    w_url = walk_base_url + '?' + urllib.parse.urlencode({\n        'format': 'json',\n        'address': str(address),\n        'lat': str(latitude),\n        'lon': str(longitude),\n        'wsapikey': walk_key,\n        'transit': 1\n    })\n    results=requests.get(w_url).json()\n    return(results['walkscore'])"
        }, 
        {
            "execution_count": 109, 
            "cell_type": "code", 
            "metadata": {}, 
            "outputs": [], 
            "source": "TwinCityNeighborhoods['walkscore'] = TwinCityNeighborhoods.apply(lambda x: walkscore(x.address, x.latitude, x.longitude), axis = 1);"
        }, 
        {
            "execution_count": 110, 
            "cell_type": "code", 
            "metadata": {}, 
            "outputs": [
                {
                    "execution_count": 110, 
                    "metadata": {}, 
                    "data": {
                        "text/html": "<div>\n<style scoped>\n    .dataframe tbody tr th:only-of-type {\n        vertical-align: middle;\n    }\n\n    .dataframe tbody tr th {\n        vertical-align: top;\n    }\n\n    .dataframe thead th {\n        text-align: right;\n    }\n</style>\n<table border=\"1\" class=\"dataframe\">\n  <thead>\n    <tr style=\"text-align: right;\">\n      <th></th>\n      <th>geography</th>\n      <th>City</th>\n      <th>household_size</th>\n      <th>total_population</th>\n      <th>share_population_under18</th>\n      <th>neighborhood</th>\n      <th>latitude</th>\n      <th>longitude</th>\n      <th>lat-lon</th>\n      <th>address</th>\n      <th>walkscore</th>\n    </tr>\n  </thead>\n  <tbody>\n    <tr>\n      <th>0</th>\n      <td>Mid-City Industrial</td>\n      <td>Minneapolis</td>\n      <td>1.480278</td>\n      <td>213.0</td>\n      <td>0.031250</td>\n      <td>Mid-City Industrial, Minneapolis</td>\n      <td>44.998862</td>\n      <td>-93.217771</td>\n      <td>44.9988622,-93.2177712</td>\n      <td>Broadway St NE &amp; Hoover St, Minneapolis, MN 55...</td>\n      <td>34</td>\n    </tr>\n    <tr>\n      <th>1</th>\n      <td>University of Minnesota</td>\n      <td>Minneapolis</td>\n      <td>3.722899</td>\n      <td>5421.0</td>\n      <td>0.384615</td>\n      <td>University of Minnesota, Minneapolis</td>\n      <td>44.973990</td>\n      <td>-93.227728</td>\n      <td>44.97399,-93.2277285</td>\n      <td>Oak St SE &amp; Washington Ave SE, Minneapolis, MN...</td>\n      <td>77</td>\n    </tr>\n    <tr>\n      <th>2</th>\n      <td>Northeast Park</td>\n      <td>Minneapolis</td>\n      <td>2.390534</td>\n      <td>672.0</td>\n      <td>0.288684</td>\n      <td>Northeast Park, Minneapolis</td>\n      <td>45.003120</td>\n      <td>-93.241263</td>\n      <td>45.0031203,-93.2412634</td>\n      <td>1653 Fillmore St NE, Minneapolis, MN 55413, USA</td>\n      <td>62</td>\n    </tr>\n    <tr>\n      <th>3</th>\n      <td>Beltrami</td>\n      <td>Minneapolis</td>\n      <td>2.886937</td>\n      <td>1248.0</td>\n      <td>0.364183</td>\n      <td>Beltrami, Minneapolis</td>\n      <td>44.994943</td>\n      <td>-93.241600</td>\n      <td>44.994943,-93.2415998</td>\n      <td>453 Fillmore St NE, Minneapolis, MN 55413, USA</td>\n      <td>59</td>\n    </tr>\n    <tr>\n      <th>4</th>\n      <td>Downtown East</td>\n      <td>Minneapolis</td>\n      <td>1.629117</td>\n      <td>1254.0</td>\n      <td>0.110879</td>\n      <td>Downtown East, Minneapolis</td>\n      <td>44.975911</td>\n      <td>-93.254587</td>\n      <td>44.9759107,-93.25458719999999</td>\n      <td>1001 S Washington Ave, Minneapolis, MN 55415, USA</td>\n      <td>90</td>\n    </tr>\n  </tbody>\n</table>\n</div>", 
                        "text/plain": "                 geography         City  household_size  total_population  \\\n0      Mid-City Industrial  Minneapolis        1.480278             213.0   \n1  University of Minnesota  Minneapolis        3.722899            5421.0   \n2           Northeast Park  Minneapolis        2.390534             672.0   \n3                 Beltrami  Minneapolis        2.886937            1248.0   \n4            Downtown East  Minneapolis        1.629117            1254.0   \n\n   share_population_under18                          neighborhood   latitude  \\\n0                  0.031250      Mid-City Industrial, Minneapolis  44.998862   \n1                  0.384615  University of Minnesota, Minneapolis  44.973990   \n2                  0.288684           Northeast Park, Minneapolis  45.003120   \n3                  0.364183                 Beltrami, Minneapolis  44.994943   \n4                  0.110879            Downtown East, Minneapolis  44.975911   \n\n   longitude                        lat-lon  \\\n0 -93.217771         44.9988622,-93.2177712   \n1 -93.227728           44.97399,-93.2277285   \n2 -93.241263         45.0031203,-93.2412634   \n3 -93.241600          44.994943,-93.2415998   \n4 -93.254587  44.9759107,-93.25458719999999   \n\n                                             address  walkscore  \n0  Broadway St NE & Hoover St, Minneapolis, MN 55...         34  \n1  Oak St SE & Washington Ave SE, Minneapolis, MN...         77  \n2    1653 Fillmore St NE, Minneapolis, MN 55413, USA         62  \n3     453 Fillmore St NE, Minneapolis, MN 55413, USA         59  \n4  1001 S Washington Ave, Minneapolis, MN 55415, USA         90  "
                    }, 
                    "output_type": "execute_result"
                }
            ], 
            "source": "TwinCityNeighborhoods.head()"
        }, 
        {
            "source": "## Now we grab the median homevalue and median household income for each neighborhood, however it will only be as unique as the zipcode it resides in.", 
            "cell_type": "markdown", 
            "metadata": {}
        }, 
        {
            "execution_count": 111, 
            "cell_type": "code", 
            "metadata": {}, 
            "outputs": [], 
            "source": "from uszipcode import Zipcode\nfrom uszipcode import SearchEngine\nsearch = SearchEngine(simple_zipcode=True)\n\ndef zip_search_income(latitude, longitude, radius = 30, returns = 1):\n    result = search.by_coordinates(latitude, longitude, radius = radius, returns = returns)\n    median_household_income = result[0].median_household_income\n    return(median_household_income)\n\ndef zip_search_homeval(latitude, longitude, radius = 30, returns = 1):\n    result = search.by_coordinates(latitude, longitude, radius = radius, returns = returns)\n    median_home_value = result[0].median_home_value\n    return(median_home_value)"
        }, 
        {
            "execution_count": 112, 
            "cell_type": "code", 
            "metadata": {}, 
            "outputs": [], 
            "source": "TwinCityNeighborhoods['median_household_income'] = TwinCityNeighborhoods.apply(lambda x: zip_search_income(x.latitude, x.longitude), axis = 1);\nTwinCityNeighborhoods['median_home_value'] = TwinCityNeighborhoods.apply(lambda x: zip_search_homeval(x.latitude, x.longitude), axis = 1);"
        }, 
        {
            "source": "## Looks like there are 3-5 neighborhoods that return NaN values for the median household income and home value. Instead of dropping those neighborhoods, we'll impute the NaN with the mean for that column.", 
            "cell_type": "markdown", 
            "metadata": {}
        }, 
        {
            "execution_count": 119, 
            "cell_type": "code", 
            "metadata": {}, 
            "outputs": [], 
            "source": "TwinCityNeighborhoods.fillna(TwinCityNeighborhoods.median(), inplace = True)"
        }, 
        {
            "execution_count": 120, 
            "cell_type": "code", 
            "metadata": {}, 
            "outputs": [
                {
                    "execution_count": 120, 
                    "metadata": {}, 
                    "data": {
                        "text/html": "<div>\n<style scoped>\n    .dataframe tbody tr th:only-of-type {\n        vertical-align: middle;\n    }\n\n    .dataframe tbody tr th {\n        vertical-align: top;\n    }\n\n    .dataframe thead th {\n        text-align: right;\n    }\n</style>\n<table border=\"1\" class=\"dataframe\">\n  <thead>\n    <tr style=\"text-align: right;\">\n      <th></th>\n      <th>geography</th>\n      <th>City</th>\n      <th>household_size</th>\n      <th>total_population</th>\n      <th>share_population_under18</th>\n      <th>neighborhood</th>\n      <th>latitude</th>\n      <th>longitude</th>\n      <th>lat-lon</th>\n      <th>address</th>\n      <th>walkscore</th>\n      <th>median_household_income</th>\n      <th>median_home_value</th>\n    </tr>\n  </thead>\n  <tbody>\n    <tr>\n      <th>0</th>\n      <td>Mid-City Industrial</td>\n      <td>Minneapolis</td>\n      <td>1.480278</td>\n      <td>213.0</td>\n      <td>0.031250</td>\n      <td>Mid-City Industrial, Minneapolis</td>\n      <td>44.998862</td>\n      <td>-93.217771</td>\n      <td>44.9988622,-93.2177712</td>\n      <td>Broadway St NE &amp; Hoover St, Minneapolis, MN 55...</td>\n      <td>34</td>\n      <td>45518.000000</td>\n      <td>195800.000000</td>\n    </tr>\n    <tr>\n      <th>1</th>\n      <td>University of Minnesota</td>\n      <td>Minneapolis</td>\n      <td>3.722899</td>\n      <td>5421.0</td>\n      <td>0.384615</td>\n      <td>University of Minnesota, Minneapolis</td>\n      <td>44.973990</td>\n      <td>-93.227728</td>\n      <td>44.97399,-93.2277285</td>\n      <td>Oak St SE &amp; Washington Ave SE, Minneapolis, MN...</td>\n      <td>77</td>\n      <td>53316.989899</td>\n      <td>214517.525773</td>\n    </tr>\n    <tr>\n      <th>2</th>\n      <td>Northeast Park</td>\n      <td>Minneapolis</td>\n      <td>2.390534</td>\n      <td>672.0</td>\n      <td>0.288684</td>\n      <td>Northeast Park, Minneapolis</td>\n      <td>45.003120</td>\n      <td>-93.241263</td>\n      <td>45.0031203,-93.2412634</td>\n      <td>1653 Fillmore St NE, Minneapolis, MN 55413, USA</td>\n      <td>62</td>\n      <td>45518.000000</td>\n      <td>195800.000000</td>\n    </tr>\n    <tr>\n      <th>3</th>\n      <td>Beltrami</td>\n      <td>Minneapolis</td>\n      <td>2.886937</td>\n      <td>1248.0</td>\n      <td>0.364183</td>\n      <td>Beltrami, Minneapolis</td>\n      <td>44.994943</td>\n      <td>-93.241600</td>\n      <td>44.994943,-93.2415998</td>\n      <td>453 Fillmore St NE, Minneapolis, MN 55413, USA</td>\n      <td>59</td>\n      <td>45518.000000</td>\n      <td>195800.000000</td>\n    </tr>\n    <tr>\n      <th>4</th>\n      <td>Downtown East</td>\n      <td>Minneapolis</td>\n      <td>1.629117</td>\n      <td>1254.0</td>\n      <td>0.110879</td>\n      <td>Downtown East, Minneapolis</td>\n      <td>44.975911</td>\n      <td>-93.254587</td>\n      <td>44.9759107,-93.25458719999999</td>\n      <td>1001 S Washington Ave, Minneapolis, MN 55415, USA</td>\n      <td>90</td>\n      <td>52736.000000</td>\n      <td>241000.000000</td>\n    </tr>\n  </tbody>\n</table>\n</div>", 
                        "text/plain": "                 geography         City  household_size  total_population  \\\n0      Mid-City Industrial  Minneapolis        1.480278             213.0   \n1  University of Minnesota  Minneapolis        3.722899            5421.0   \n2           Northeast Park  Minneapolis        2.390534             672.0   \n3                 Beltrami  Minneapolis        2.886937            1248.0   \n4            Downtown East  Minneapolis        1.629117            1254.0   \n\n   share_population_under18                          neighborhood   latitude  \\\n0                  0.031250      Mid-City Industrial, Minneapolis  44.998862   \n1                  0.384615  University of Minnesota, Minneapolis  44.973990   \n2                  0.288684           Northeast Park, Minneapolis  45.003120   \n3                  0.364183                 Beltrami, Minneapolis  44.994943   \n4                  0.110879            Downtown East, Minneapolis  44.975911   \n\n   longitude                        lat-lon  \\\n0 -93.217771         44.9988622,-93.2177712   \n1 -93.227728           44.97399,-93.2277285   \n2 -93.241263         45.0031203,-93.2412634   \n3 -93.241600          44.994943,-93.2415998   \n4 -93.254587  44.9759107,-93.25458719999999   \n\n                                             address  walkscore  \\\n0  Broadway St NE & Hoover St, Minneapolis, MN 55...         34   \n1  Oak St SE & Washington Ave SE, Minneapolis, MN...         77   \n2    1653 Fillmore St NE, Minneapolis, MN 55413, USA         62   \n3     453 Fillmore St NE, Minneapolis, MN 55413, USA         59   \n4  1001 S Washington Ave, Minneapolis, MN 55415, USA         90   \n\n   median_household_income  median_home_value  \n0             45518.000000      195800.000000  \n1             53316.989899      214517.525773  \n2             45518.000000      195800.000000  \n3             45518.000000      195800.000000  \n4             52736.000000      241000.000000  "
                    }, 
                    "output_type": "execute_result"
                }
            ], 
            "source": "TwinCityNeighborhoods.head()"
        }, 
        {
            "source": "## Now let's export this .csv so we have an intermediate result in case we have to restart the kernel. Don't want to re-hit the GoogleAPI and run into paying. ", 
            "cell_type": "markdown", 
            "metadata": {}
        }, 
        {
            "execution_count": 130, 
            "cell_type": "code", 
            "metadata": {}, 
            "outputs": [
                {
                    "execution_count": 130, 
                    "metadata": {}, 
                    "data": {
                        "text/plain": "{'file_name': 'TwinCityNeighborhoods.csv',\n 'message': 'File saved to project storage.',\n 'bucket_name': 'minnesotanice-donotdelete-pr-m1b1j2ihuwlryd',\n 'asset_id': '12a09502-9234-4208-9577-6d8e26cdfa27'}"
                    }, 
                    "output_type": "execute_result"
                }
            ], 
            "source": "# Save dataframe as csv file to storage\nproject.save_data(data=TwinCityNeighborhoods.to_csv(index=False),file_name='TwinCityNeighborhoods.csv',overwrite=True)\n"
        }, 
        {
            "source": "## Read the Twin City Neighborhoods dataframe back in...", 
            "cell_type": "markdown", 
            "metadata": {}
        }, 
        {
            "execution_count": 131, 
            "cell_type": "code", 
            "metadata": {}, 
            "outputs": [
                {
                    "execution_count": 131, 
                    "metadata": {}, 
                    "data": {
                        "text/html": "<div>\n<style scoped>\n    .dataframe tbody tr th:only-of-type {\n        vertical-align: middle;\n    }\n\n    .dataframe tbody tr th {\n        vertical-align: top;\n    }\n\n    .dataframe thead th {\n        text-align: right;\n    }\n</style>\n<table border=\"1\" class=\"dataframe\">\n  <thead>\n    <tr style=\"text-align: right;\">\n      <th></th>\n      <th>geography</th>\n      <th>City</th>\n      <th>household_size</th>\n      <th>total_population</th>\n      <th>share_population_under18</th>\n      <th>neighborhood</th>\n      <th>latitude</th>\n      <th>longitude</th>\n      <th>lat-lon</th>\n      <th>address</th>\n      <th>walkscore</th>\n      <th>median_household_income</th>\n      <th>median_home_value</th>\n    </tr>\n  </thead>\n  <tbody>\n    <tr>\n      <th>0</th>\n      <td>Mid-City Industrial</td>\n      <td>Minneapolis</td>\n      <td>1.480278</td>\n      <td>213.0</td>\n      <td>0.031250</td>\n      <td>Mid-City Industrial, Minneapolis</td>\n      <td>44.998862</td>\n      <td>-93.217771</td>\n      <td>44.9988622,-93.2177712</td>\n      <td>Broadway St NE &amp; Hoover St, Minneapolis, MN 55...</td>\n      <td>34</td>\n      <td>45518.000000</td>\n      <td>195800.000000</td>\n    </tr>\n    <tr>\n      <th>1</th>\n      <td>University of Minnesota</td>\n      <td>Minneapolis</td>\n      <td>3.722899</td>\n      <td>5421.0</td>\n      <td>0.384615</td>\n      <td>University of Minnesota, Minneapolis</td>\n      <td>44.973990</td>\n      <td>-93.227728</td>\n      <td>44.97399,-93.2277285</td>\n      <td>Oak St SE &amp; Washington Ave SE, Minneapolis, MN...</td>\n      <td>77</td>\n      <td>53316.989899</td>\n      <td>214517.525773</td>\n    </tr>\n    <tr>\n      <th>2</th>\n      <td>Northeast Park</td>\n      <td>Minneapolis</td>\n      <td>2.390534</td>\n      <td>672.0</td>\n      <td>0.288684</td>\n      <td>Northeast Park, Minneapolis</td>\n      <td>45.003120</td>\n      <td>-93.241263</td>\n      <td>45.0031203,-93.2412634</td>\n      <td>1653 Fillmore St NE, Minneapolis, MN 55413, USA</td>\n      <td>62</td>\n      <td>45518.000000</td>\n      <td>195800.000000</td>\n    </tr>\n    <tr>\n      <th>3</th>\n      <td>Beltrami</td>\n      <td>Minneapolis</td>\n      <td>2.886937</td>\n      <td>1248.0</td>\n      <td>0.364183</td>\n      <td>Beltrami, Minneapolis</td>\n      <td>44.994943</td>\n      <td>-93.241600</td>\n      <td>44.994943,-93.2415998</td>\n      <td>453 Fillmore St NE, Minneapolis, MN 55413, USA</td>\n      <td>59</td>\n      <td>45518.000000</td>\n      <td>195800.000000</td>\n    </tr>\n    <tr>\n      <th>4</th>\n      <td>Downtown East</td>\n      <td>Minneapolis</td>\n      <td>1.629117</td>\n      <td>1254.0</td>\n      <td>0.110879</td>\n      <td>Downtown East, Minneapolis</td>\n      <td>44.975911</td>\n      <td>-93.254587</td>\n      <td>44.9759107,-93.25458719999999</td>\n      <td>1001 S Washington Ave, Minneapolis, MN 55415, USA</td>\n      <td>90</td>\n      <td>52736.000000</td>\n      <td>241000.000000</td>\n    </tr>\n  </tbody>\n</table>\n</div>", 
                        "text/plain": "                 geography         City  household_size  total_population  \\\n0      Mid-City Industrial  Minneapolis        1.480278             213.0   \n1  University of Minnesota  Minneapolis        3.722899            5421.0   \n2           Northeast Park  Minneapolis        2.390534             672.0   \n3                 Beltrami  Minneapolis        2.886937            1248.0   \n4            Downtown East  Minneapolis        1.629117            1254.0   \n\n   share_population_under18                          neighborhood   latitude  \\\n0                  0.031250      Mid-City Industrial, Minneapolis  44.998862   \n1                  0.384615  University of Minnesota, Minneapolis  44.973990   \n2                  0.288684           Northeast Park, Minneapolis  45.003120   \n3                  0.364183                 Beltrami, Minneapolis  44.994943   \n4                  0.110879            Downtown East, Minneapolis  44.975911   \n\n   longitude                        lat-lon  \\\n0 -93.217771         44.9988622,-93.2177712   \n1 -93.227728           44.97399,-93.2277285   \n2 -93.241263         45.0031203,-93.2412634   \n3 -93.241600          44.994943,-93.2415998   \n4 -93.254587  44.9759107,-93.25458719999999   \n\n                                             address  walkscore  \\\n0  Broadway St NE & Hoover St, Minneapolis, MN 55...         34   \n1  Oak St SE & Washington Ave SE, Minneapolis, MN...         77   \n2    1653 Fillmore St NE, Minneapolis, MN 55413, USA         62   \n3     453 Fillmore St NE, Minneapolis, MN 55413, USA         59   \n4  1001 S Washington Ave, Minneapolis, MN 55415, USA         90   \n\n   median_household_income  median_home_value  \n0             45518.000000      195800.000000  \n1             53316.989899      214517.525773  \n2             45518.000000      195800.000000  \n3             45518.000000      195800.000000  \n4             52736.000000      241000.000000  "
                    }, 
                    "output_type": "execute_result"
                }
            ], 
            "source": "body = client_a28f8de00eed48e5bb907b36c94b68c9.get_object(Bucket='minnesotanice-donotdelete-pr-m1b1j2ihuwlryd',Key='TwinCityNeighborhoods.csv')['Body']\n# add missing __iter__ method, so pandas accepts body as file-like object\nif not hasattr(body, \"__iter__\"): body.__iter__ = types.MethodType( __iter__, body )\n\nTwinCityNeighborhoodsDF = pd.read_csv(body)\nTwinCityNeighborhoodsDF.head()\n"
        }, 
        {
            "source": "## Now I'm just going to start dropping in the code from the Toronto Analysis", 
            "cell_type": "markdown", 
            "metadata": {}
        }, 
        {
            "execution_count": 134, 
            "cell_type": "code", 
            "metadata": {}, 
            "outputs": [], 
            "source": "from sklearn.cluster import KMeans\n"
        }, 
        {
            "execution_count": 122, 
            "cell_type": "code", 
            "metadata": {}, 
            "outputs": [
                {
                    "ename": "ModuleNotFoundError", 
                    "evalue": "No module named 'folium'", 
                    "traceback": [
                        "\u001b[0;31m---------------------------------------------------------------------------\u001b[0m", 
                        "\u001b[0;31mModuleNotFoundError\u001b[0m                       Traceback (most recent call last)", 
                        "\u001b[0;32m<ipython-input-122-9afc9ace4b39>\u001b[0m in \u001b[0;36m<module>\u001b[0;34m\u001b[0m\n\u001b[1;32m      9\u001b[0m \u001b[0;34m\u001b[0m\u001b[0m\n\u001b[1;32m     10\u001b[0m \u001b[0;31m#!conda install -c conda-forge folium=0.5.0 --yes # uncomment this line if you haven't completed the Foursquare API lab\u001b[0m\u001b[0;34m\u001b[0m\u001b[0;34m\u001b[0m\u001b[0;34m\u001b[0m\u001b[0m\n\u001b[0;32m---> 11\u001b[0;31m \u001b[0;32mimport\u001b[0m \u001b[0mfolium\u001b[0m \u001b[0;31m# map rendering library\u001b[0m\u001b[0;34m\u001b[0m\u001b[0;34m\u001b[0m\u001b[0m\n\u001b[0m", 
                        "\u001b[0;31mModuleNotFoundError\u001b[0m: No module named 'folium'"
                    ], 
                    "output_type": "error"
                }
            ], 
            "source": "from geopy.geocoders import Nominatim # convert an address into latitude and longitude values\n\n# Matplotlib and associated plotting modules\nimport matplotlib.cm as cm\nimport matplotlib.colors as colors\n\n# import k-means from clustering stage\nfrom sklearn.cluster import KMeans\n\nimport folium # map rendering library"
        }, 
        {
            "execution_count": null, 
            "cell_type": "code", 
            "metadata": {}, 
            "outputs": [], 
            "source": "address = 'Toronto'\n\ngeolocator = Nominatim(user_agent=\"toronto_explorer\")\nlocation = geolocator.geocode(address)\nlatitude = location.latitude\nlongitude = location.longitude\nprint('The geograpical coordinate of Toronto are {}, {}.'.format(latitude, longitude))"
        }, 
        {
            "execution_count": null, 
            "cell_type": "code", 
            "metadata": {}, 
            "outputs": [], 
            "source": "# create map of Toronto using latitude and longitude values\nmap_toronto = folium.Map(location=[latitude, longitude], zoom_start=10)\n\n# add markers to map\nfor lat, lng, borough, neighborhood in zip(DF['Latitude'], DF['Longitude'], DF['Borough'], DF['Neighbourhood']):\n    label = '{}, {}'.format(neighborhood, borough)\n    label = folium.Popup(label, parse_html=True)\n    folium.CircleMarker(\n        [lat, lng],\n        radius=5,\n        popup=label,\n        color='blue',\n        fill=True,\n        fill_color='#3186cc',\n        fill_opacity=0.7,\n        parse_html=False).add_to(map_toronto)  \n    \nmap_toronto"
        }, 
        {
            "execution_count": null, 
            "cell_type": "code", 
            "metadata": {}, 
            "outputs": [], 
            "source": "Toronto_DF = DF[DF['Borough'].str.contains('Toronto')]\nToronto_DF.drop('Postal Code', axis = 1)"
        }, 
        {
            "execution_count": null, 
            "cell_type": "code", 
            "metadata": {}, 
            "outputs": [], 
            "source": "# create map of Toronto using latitude and longitude values\nmap_toronto2 = folium.Map(location=[latitude, longitude], zoom_start=12)\n\n# add markers to map\nfor lat, lng, borough, neighborhood in zip(Toronto_DF['Latitude'], Toronto_DF['Longitude'], Toronto_DF['Borough'], Toronto_DF['Neighbourhood']):\n    label = '{}, {}'.format(neighborhood, borough)\n    label = folium.Popup(label, parse_html=True)\n    folium.CircleMarker(\n        [lat, lng],\n        radius=5,\n        popup=label,\n        color='blue',\n        fill=True,\n        fill_color='#3186cc',\n        fill_opacity=0.7,\n        parse_html=False).add_to(map_toronto2)  \n    \nmap_toronto2"
        }, 
        {
            "execution_count": null, 
            "cell_type": "code", 
            "metadata": {}, 
            "outputs": [], 
            "source": "# The code was removed by Watson Studio for sharing."
        }, 
        {
            "execution_count": null, 
            "cell_type": "code", 
            "metadata": {}, 
            "outputs": [], 
            "source": "def getNearbyVenues(names, latitudes, longitudes, radius=500, LIMIT = 100):\n    \n    venues_list=[]\n    for name, lat, lng in zip(names, latitudes, longitudes):\n        print(name)\n            \n        # create the API request URL\n        url = 'https://api.foursquare.com/v2/venues/explore?&client_id={}&client_secret={}&v={}&ll={},{}&radius={}&limit={}'.format(\n            CLIENT_ID, \n            CLIENT_SECRET, \n            VERSION, \n            lat, \n            lng, \n            radius, \n            LIMIT)\n            \n        # make the GET request\n        results = requests.get(url).json()[\"response\"]['groups'][0]['items']\n        \n        # return only relevant information for each nearby venue\n        venues_list.append([(\n            name, \n            lat, \n            lng, \n            v['venue']['name'], \n            v['venue']['location']['lat'], \n            v['venue']['location']['lng'],  \n            v['venue']['categories'][0]['name']) for v in results])\n\n    nearby_venues = pd.DataFrame([item for venue_list in venues_list for item in venue_list])\n    nearby_venues.columns = ['Neighbourhood', \n                  'Neighbourhood Latitude', \n                  'Neighbourhood Longitude', \n                  'Venue', \n                  'Venue Latitude', \n                  'Venue Longitude', \n                  'Venue Category']\n    \n    return(nearby_venues)"
        }, 
        {
            "execution_count": null, 
            "cell_type": "code", 
            "metadata": {}, 
            "outputs": [], 
            "source": "TorontoVenues = getNearbyVenues(names=Toronto_DF['Neighbourhood'],\n                                   latitudes=Toronto_DF['Latitude'],\n                                   longitudes=Toronto_DF['Longitude']\n                                  )"
        }, 
        {
            "execution_count": null, 
            "cell_type": "code", 
            "metadata": {}, 
            "outputs": [], 
            "source": "print(TorontoVenues.shape)\nTorontoVenues.head()"
        }, 
        {
            "execution_count": null, 
            "cell_type": "code", 
            "metadata": {}, 
            "outputs": [], 
            "source": "TorontoVenues.groupby('Neighbourhood').count()"
        }, 
        {
            "execution_count": null, 
            "cell_type": "code", 
            "metadata": {}, 
            "outputs": [], 
            "source": "print('There are {} uniques categories.'.format(len(TorontoVenues['Venue Category'].unique())))"
        }, 
        {
            "execution_count": null, 
            "cell_type": "code", 
            "metadata": {}, 
            "outputs": [], 
            "source": "\n\n# one hot encoding\nToronto_onehot = pd.get_dummies(TorontoVenues[['Venue Category']], prefix=\"\", prefix_sep=\"\")\n\n# add neighborhood column back to dataframe\nToronto_onehot['Neighbourhood'] = TorontoVenues['Neighbourhood'] \n\n# move neighborhood column to the first column\nfixed_columns = [Toronto_onehot.columns[-1]] + list(Toronto_onehot.columns[:-1])\nToronto_onehot = Toronto_onehot[fixed_columns]\n\nToronto_onehot.head()\n\n"
        }, 
        {
            "execution_count": null, 
            "cell_type": "code", 
            "metadata": {}, 
            "outputs": [], 
            "source": "Toronto_onehot.shape"
        }, 
        {
            "execution_count": null, 
            "cell_type": "code", 
            "metadata": {}, 
            "outputs": [], 
            "source": "Toronto_grouped = Toronto_onehot.groupby('Neighbourhood').mean().reset_index()\nToronto_grouped"
        }, 
        {
            "execution_count": null, 
            "cell_type": "code", 
            "metadata": {}, 
            "outputs": [], 
            "source": "Toronto_grouped.shape"
        }, 
        {
            "execution_count": null, 
            "cell_type": "code", 
            "metadata": {}, 
            "outputs": [], 
            "source": "num_top_venues = 5\n\nfor hood in Toronto_grouped['Neighbourhood']:\n    print(\"----\"+hood+\"----\")\n    temp = Toronto_grouped[Toronto_grouped['Neighbourhood'] == hood].T.reset_index()\n    temp.columns = ['venue','freq']\n    temp = temp.iloc[1:]\n    temp['freq'] = temp['freq'].astype(float)\n    temp = temp.round({'freq': 2})\n    print(temp.sort_values('freq', ascending=False).reset_index(drop=True).head(num_top_venues))\n    print('\\n')"
        }, 
        {
            "execution_count": null, 
            "cell_type": "code", 
            "metadata": {}, 
            "outputs": [], 
            "source": "def return_most_common_venues(row, num_top_venues):\n    row_categories = row.iloc[1:]\n    row_categories_sorted = row_categories.sort_values(ascending=False)\n    \n    return row_categories_sorted.index.values[0:num_top_venues]"
        }, 
        {
            "execution_count": null, 
            "cell_type": "code", 
            "metadata": {}, 
            "outputs": [], 
            "source": "num_top_venues = 10\n\nindicators = ['st', 'nd', 'rd']\n\n# create columns according to number of top venues\ncolumns = ['Neighbourhood']\nfor ind in np.arange(num_top_venues):\n    try:\n        columns.append('{}{} Most Common Venue'.format(ind+1, indicators[ind]))\n    except:\n        columns.append('{}th Most Common Venue'.format(ind+1))\n\n# create a new dataframe\nneighborhoods_venues_sorted = pd.DataFrame(columns=columns)\nneighborhoods_venues_sorted['Neighbourhood'] = Toronto_grouped['Neighbourhood']\n\nfor ind in np.arange(Toronto_grouped.shape[0]):\n    neighborhoods_venues_sorted.iloc[ind, 1:] = return_most_common_venues(Toronto_grouped.iloc[ind, :], num_top_venues)\n\nneighborhoods_venues_sorted.head()"
        }, 
        {
            "execution_count": null, 
            "cell_type": "code", 
            "metadata": {}, 
            "outputs": [], 
            "source": "# set number of clusters\nkclusters = 5\n\nToronto_grouped_clustering = Toronto_grouped.drop('Neighbourhood', 1)\n\n# run k-means clustering\nkmeans = KMeans(n_clusters=kclusters, random_state=0).fit(Toronto_grouped_clustering)\n\n# check cluster labels generated for each row in the dataframe\nkmeans.labels_[0:10]"
        }, 
        {
            "execution_count": null, 
            "cell_type": "code", 
            "metadata": {}, 
            "outputs": [], 
            "source": "\n\n# add clustering labels\nneighborhoods_venues_sorted.insert(0, 'Cluster Labels', kmeans.labels_)\n\nToronto_merged = Toronto_DF\n\n# merge toronto_grouped with toronto_data to add latitude/longitude for each neighborhood\nToronto_merged = Toronto_merged.join(neighborhoods_venues_sorted.set_index('Neighbourhood'), on='Neighbourhood')\n\nToronto_merged.head() # check the last columns!\n\n"
        }, 
        {
            "execution_count": null, 
            "cell_type": "code", 
            "metadata": {}, 
            "outputs": [], 
            "source": "# create map\nmap_clusters = folium.Map(location=[latitude, longitude], zoom_start=12)\n\n# set color scheme for the clusters\nx = np.arange(kclusters)\nys = [i + x + (i*x)**2 for i in range(kclusters)]\ncolors_array = cm.rainbow(np.linspace(0, 1, len(ys)))\nrainbow = [colors.rgb2hex(i) for i in colors_array]\n\n# add markers to the map\nmarkers_colors = []\nfor lat, lon, poi, cluster in zip(Toronto_merged['Latitude'], Toronto_merged['Longitude'], Toronto_merged['Neighbourhood'], Toronto_merged['Cluster Labels']):\n    label = folium.Popup(str(poi) + ' Cluster ' + str(cluster), parse_html=True)\n    folium.CircleMarker(\n        [lat, lon],\n        radius=5,\n        popup=label,\n        color=rainbow[cluster-1],\n        fill=True,\n        fill_color=rainbow[cluster-1],\n        fill_opacity=0.7).add_to(map_clusters)\n       \nmap_clusters"
        }
    ], 
    "metadata": {
        "kernelspec": {
            "display_name": "Python 3.6", 
            "name": "python3", 
            "language": "python"
        }, 
        "language_info": {
            "mimetype": "text/x-python", 
            "nbconvert_exporter": "python", 
            "version": "3.6.8", 
            "name": "python", 
            "file_extension": ".py", 
            "pygments_lexer": "ipython3", 
            "codemirror_mode": {
                "version": 3, 
                "name": "ipython"
            }
        }
    }, 
    "nbformat": 4
}